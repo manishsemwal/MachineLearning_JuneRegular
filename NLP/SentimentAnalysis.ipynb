{
 "cells": [
  {
   "cell_type": "code",
   "execution_count": 1,
   "metadata": {
    "collapsed": true
   },
   "outputs": [],
   "source": [
    "# Sentiment Analysis\n",
    "# whether a feedback is positive or negative\n",
    "from nltk.corpus import movie_reviews\n",
    "from nltk.classify import NaiveBayesClassifier"
   ]
  },
  {
   "cell_type": "code",
   "execution_count": 2,
   "metadata": {
    "collapsed": true
   },
   "outputs": [],
   "source": [
    "def extract_features(word_list):\n",
    "    return dict([(word, True) for word in word_list])"
   ]
  },
  {
   "cell_type": "code",
   "execution_count": 9,
   "metadata": {
    "collapsed": true
   },
   "outputs": [],
   "source": [
    "positive_fileids = movie_reviews.fileids('pos')\n",
    "negative_fileids = movie_reviews.fileids('neg')"
   ]
  },
  {
   "cell_type": "code",
   "execution_count": 10,
   "metadata": {},
   "outputs": [
    {
     "data": {
      "text/plain": [
       "list"
      ]
     },
     "execution_count": 10,
     "metadata": {},
     "output_type": "execute_result"
    }
   ],
   "source": [
    "type(positive_fileids)"
   ]
  },
  {
   "cell_type": "code",
   "execution_count": 12,
   "metadata": {},
   "outputs": [
    {
     "data": {
      "text/plain": [
       "['pos/cv000_29590.txt',\n",
       " 'pos/cv001_18431.txt',\n",
       " 'pos/cv002_15918.txt',\n",
       " 'pos/cv003_11664.txt',\n",
       " 'pos/cv004_11636.txt',\n",
       " 'pos/cv005_29443.txt',\n",
       " 'pos/cv006_15448.txt',\n",
       " 'pos/cv007_4968.txt',\n",
       " 'pos/cv008_29435.txt',\n",
       " 'pos/cv009_29592.txt']"
      ]
     },
     "execution_count": 12,
     "metadata": {},
     "output_type": "execute_result"
    }
   ],
   "source": [
    "positive_fileids[:10]"
   ]
  },
  {
   "cell_type": "code",
   "execution_count": 13,
   "metadata": {},
   "outputs": [
    {
     "data": {
      "text/plain": [
       "['the', 'american', 'action', 'film', 'has', 'been', ...]"
      ]
     },
     "execution_count": 13,
     "metadata": {},
     "output_type": "execute_result"
    }
   ],
   "source": [
    "movie_reviews.words(fileids=['pos/cv009_29592.txt'])"
   ]
  },
  {
   "cell_type": "code",
   "execution_count": 15,
   "metadata": {},
   "outputs": [],
   "source": [
    "# extract_features(movie_reviews.words(fileids=['pos/cv009_29592.txt']))"
   ]
  },
  {
   "cell_type": "code",
   "execution_count": 16,
   "metadata": {},
   "outputs": [
    {
     "data": {
      "text/plain": [
       "({\"'\": True,\n",
       "  '(': True,\n",
       "  ')': True,\n",
       "  ',': True,\n",
       "  '-': True,\n",
       "  '.': True,\n",
       "  '1993': True,\n",
       "  '1999': True,\n",
       "  '19th': True,\n",
       "  '2': True,\n",
       "  '2000': True,\n",
       "  'a': True,\n",
       "  'action': True,\n",
       "  'actually': True,\n",
       "  'adult': True,\n",
       "  'against': True,\n",
       "  'aka': True,\n",
       "  'also': True,\n",
       "  'amazing': True,\n",
       "  'american': True,\n",
       "  'an': True,\n",
       "  'and': True,\n",
       "  'any': True,\n",
       "  'are': True,\n",
       "  'art': True,\n",
       "  'as': True,\n",
       "  'asian': True,\n",
       "  'at': True,\n",
       "  'audience': True,\n",
       "  'back': True,\n",
       "  'be': True,\n",
       "  'become': True,\n",
       "  'been': True,\n",
       "  'bellies': True,\n",
       "  'best': True,\n",
       "  'between': True,\n",
       "  'blowing': True,\n",
       "  'bottom': True,\n",
       "  'brief': True,\n",
       "  'bring': True,\n",
       "  'bronx': True,\n",
       "  'but': True,\n",
       "  'by': True,\n",
       "  'can': True,\n",
       "  'cement': True,\n",
       "  'chan': True,\n",
       "  'characters': True,\n",
       "  'chi': True,\n",
       "  'chief': True,\n",
       "  'chinese': True,\n",
       "  'choreography': True,\n",
       "  'copycats': True,\n",
       "  'crouching': True,\n",
       "  'damme': True,\n",
       "  'dan': True,\n",
       "  'dances': True,\n",
       "  'death': True,\n",
       "  'detectives': True,\n",
       "  'devolve': True,\n",
       "  'director': True,\n",
       "  'directors': True,\n",
       "  'do': True,\n",
       "  'dragon': True,\n",
       "  'drama': True,\n",
       "  'drowning': True,\n",
       "  'drunken': True,\n",
       "  'earth': True,\n",
       "  'emulate': True,\n",
       "  'enemy': True,\n",
       "  'equal': True,\n",
       "  'especially': True,\n",
       "  'even': True,\n",
       "  'eventually': True,\n",
       "  'exciting': True,\n",
       "  'father': True,\n",
       "  'fei': True,\n",
       "  'fight': True,\n",
       "  'fighting': True,\n",
       "  'film': True,\n",
       "  'films': True,\n",
       "  'finds': True,\n",
       "  'floating': True,\n",
       "  'flying': True,\n",
       "  'for': True,\n",
       "  'form': True,\n",
       "  'fox': True,\n",
       "  'fu': True,\n",
       "  'galoshes': True,\n",
       "  'gem': True,\n",
       "  'get': True,\n",
       "  'gets': True,\n",
       "  'good': True,\n",
       "  'hardcore': True,\n",
       "  'has': True,\n",
       "  'have': True,\n",
       "  'heart': True,\n",
       "  'hearted': True,\n",
       "  'hearts': True,\n",
       "  'hero': True,\n",
       "  'hidden': True,\n",
       "  'himself': True,\n",
       "  'his': True,\n",
       "  'hollywood': True,\n",
       "  'hong': True,\n",
       "  'how': True,\n",
       "  'however': True,\n",
       "  'hung': True,\n",
       "  'hungry': True,\n",
       "  'import': True,\n",
       "  'in': True,\n",
       "  'into': True,\n",
       "  'invading': True,\n",
       "  'iron': True,\n",
       "  'is': True,\n",
       "  'it': True,\n",
       "  'its': True,\n",
       "  'jackie': True,\n",
       "  'joke': True,\n",
       "  'karate': True,\n",
       "  'kei': True,\n",
       "  'kicking': True,\n",
       "  'kind': True,\n",
       "  'kung': True,\n",
       "  'la': True,\n",
       "  'latest': True,\n",
       "  'laughable': True,\n",
       "  'leaving': True,\n",
       "  'legend': True,\n",
       "  'legendary': True,\n",
       "  'like': True,\n",
       "  'likes': True,\n",
       "  'man': True,\n",
       "  'manages': True,\n",
       "  'master': True,\n",
       "  'masterpiece': True,\n",
       "  'masters': True,\n",
       "  'matrix': True,\n",
       "  'middle': True,\n",
       "  'mind': True,\n",
       "  'mindless': True,\n",
       "  'minds': True,\n",
       "  'misguided': True,\n",
       "  'mix': True,\n",
       "  'moments': True,\n",
       "  'monkey': True,\n",
       "  'more': True,\n",
       "  'most': True,\n",
       "  'mostly': True,\n",
       "  'motion': True,\n",
       "  'much': True,\n",
       "  'narrative': True,\n",
       "  'nature': True,\n",
       "  'nicely': True,\n",
       "  'ninjas': True,\n",
       "  'no': True,\n",
       "  'not': True,\n",
       "  'of': True,\n",
       "  'off': True,\n",
       "  'often': True,\n",
       "  'one': True,\n",
       "  'oppressed': True,\n",
       "  'oppression': True,\n",
       "  'other': True,\n",
       "  'others': True,\n",
       "  'our': True,\n",
       "  'outlaw': True,\n",
       "  'overlooked': True,\n",
       "  'own': True,\n",
       "  'pass': True,\n",
       "  'pay': True,\n",
       "  'piece': True,\n",
       "  'ping': True,\n",
       "  'possibly': True,\n",
       "  'pretty': True,\n",
       "  'profoundness': True,\n",
       "  'quality': True,\n",
       "  'quite': True,\n",
       "  'rather': True,\n",
       "  'real': True,\n",
       "  'recently': True,\n",
       "  'reissue': True,\n",
       "  'released': True,\n",
       "  'remembers': True,\n",
       "  'replaced': True,\n",
       "  'results': True,\n",
       "  'ridiculous': True,\n",
       "  'right': True,\n",
       "  'rights': True,\n",
       "  'rongguang': True,\n",
       "  'rush': True,\n",
       "  's': True,\n",
       "  'scenes': True,\n",
       "  'schwartznager': True,\n",
       "  'scientists': True,\n",
       "  'sea': True,\n",
       "  'seen': True,\n",
       "  'shaolin': True,\n",
       "  'shared': True,\n",
       "  'shows': True,\n",
       "  'since': True,\n",
       "  'siunin': True,\n",
       "  'slow': True,\n",
       "  'slowly': True,\n",
       "  'soaring': True,\n",
       "  'sometimes': True,\n",
       "  'spectacle': True,\n",
       "  'stallone': True,\n",
       "  'stars': True,\n",
       "  'story': True,\n",
       "  'stunt': True,\n",
       "  'style': True,\n",
       "  'styles': True,\n",
       "  'succeeds': True,\n",
       "  'success': True,\n",
       "  'such': True,\n",
       "  'sze': True,\n",
       "  'than': True,\n",
       "  'that': True,\n",
       "  'the': True,\n",
       "  'there': True,\n",
       "  'they': True,\n",
       "  'those': True,\n",
       "  'thrust': True,\n",
       "  'tiger': True,\n",
       "  'times': True,\n",
       "  'titmalau': True,\n",
       "  'to': True,\n",
       "  'toed': True,\n",
       "  'too': True,\n",
       "  'touch': True,\n",
       "  'trademark': True,\n",
       "  'transcend': True,\n",
       "  'tsang': True,\n",
       "  'tsi': True,\n",
       "  'tune': True,\n",
       "  'twinkle': True,\n",
       "  'u': True,\n",
       "  'unique': True,\n",
       "  'unlike': True,\n",
       "  'us': True,\n",
       "  'van': True,\n",
       "  'vigilante': True,\n",
       "  'way': True,\n",
       "  'wearing': True,\n",
       "  'when': True,\n",
       "  'which': True,\n",
       "  'while': True,\n",
       "  'wire': True,\n",
       "  'with': True,\n",
       "  'wo': True,\n",
       "  'wong': True,\n",
       "  'work': True,\n",
       "  'wrong': True,\n",
       "  'yen': True,\n",
       "  'ying': True,\n",
       "  'younger': True,\n",
       "  'yu': True,\n",
       "  'yuen': True},\n",
       " 'Positive')"
      ]
     },
     "execution_count": 16,
     "metadata": {},
     "output_type": "execute_result"
    }
   ],
   "source": [
    "(extract_features(movie_reviews.words(fileids=['pos/cv009_29592.txt'])),\n",
    " 'Positive')"
   ]
  },
  {
   "cell_type": "code",
   "execution_count": 17,
   "metadata": {},
   "outputs": [],
   "source": [
    "feature_positive = [(extract_features(movie_reviews.words(fileids=[f])),\n",
    "                     'Positive') for f in positive_fileids]\n",
    "\n",
    "feature_negative = [(extract_features(movie_reviews.words(fileids=[f])),\n",
    "                    'Negative') for f in negative_fileids]"
   ]
  },
  {
   "cell_type": "code",
   "execution_count": 22,
   "metadata": {},
   "outputs": [
    {
     "data": {
      "text/plain": [
       "800"
      ]
     },
     "execution_count": 22,
     "metadata": {},
     "output_type": "execute_result"
    }
   ],
   "source": [
    "# int(len(positive_fileids) * 0.8)\n",
    "int(len(negative_fileids) * 0.8)"
   ]
  },
  {
   "cell_type": "code",
   "execution_count": 23,
   "metadata": {
    "collapsed": true
   },
   "outputs": [],
   "source": [
    "# train test split\n",
    "threshold_factor = 0.8\n",
    "threshold_positive = int(threshold_factor * len(positive_fileids))\n",
    "threshold_negative = int(threshold_factor * len(negative_fileids))\n",
    "\n",
    "train = feature_positive[:threshold_positive] + feature_negative[:threshold_negative]\n",
    "test = feature_positive[threshold_positive:] + feature_negative[threshold_negative:]"
   ]
  },
  {
   "cell_type": "code",
   "execution_count": 24,
   "metadata": {},
   "outputs": [
    {
     "name": "stdout",
     "output_type": "stream",
     "text": [
      "Number of training features 1600\n",
      "Number of testing features 400\n"
     ]
    }
   ],
   "source": [
    "print(\"Number of training features\", len(train))\n",
    "print(\"Number of testing features\", len(test))"
   ]
  },
  {
   "cell_type": "code",
   "execution_count": 25,
   "metadata": {
    "collapsed": true
   },
   "outputs": [],
   "source": [
    "classifier = NaiveBayesClassifier.train(train)"
   ]
  },
  {
   "cell_type": "code",
   "execution_count": 26,
   "metadata": {
    "collapsed": true
   },
   "outputs": [],
   "source": [
    "import nltk"
   ]
  },
  {
   "cell_type": "code",
   "execution_count": 27,
   "metadata": {},
   "outputs": [
    {
     "data": {
      "text/plain": [
       "0.735"
      ]
     },
     "execution_count": 27,
     "metadata": {},
     "output_type": "execute_result"
    }
   ],
   "source": [
    "nltk.classify.accuracy(classifier, test)"
   ]
  },
  {
   "cell_type": "code",
   "execution_count": 36,
   "metadata": {
    "collapsed": true
   },
   "outputs": [],
   "source": [
    "input_reviews = ['the movie was not entertaining',\n",
    "                'Watched #Sanju and loved with incredible Awards winning acting by #RanbirKapoor Great Acting Take it to #OscarAward . @vickykaushal09 and @SirPareshRawal @RajkumarHirani..',\n",
    "                'PEOPLE WHO HAVE ACTUALLY GONE THROUGH SIMILAR EXPERIENCE CAN APPRECIATE THIS MOVIE BETTER, THE IMPACT IT LEAVES ON A FAMILY AND THE COURAGE IT TAKES FOR A PERSON TO GIVE IT ALL UP RISE FOR HIS OWN ASHES AND FIGHT THE WORLD IS A COURAGE YOU RARELY FIND THESE DAYS, A TRUE BRAVE HEART HE(SANJAY DUTT) IS AND A MUCH GREATER MAN HIS FATHER SUNIL DUTT CANNOT BE JUST CAPTURED IN WORDS SUCH PEOPLE ARE A RARITY IN TODAYS WORLD BUT STILL EXIST (JUST A FEW) AND MUCH NEEDED IN TODAYS SOCIETY ',\n",
    "                'outstanding performance of sanju.I loved all the songs.',\n",
    "                'Average movie. only acting is the reason to make this movie hit']"
   ]
  },
  {
   "cell_type": "code",
   "execution_count": 38,
   "metadata": {},
   "outputs": [
    {
     "name": "stdout",
     "output_type": "stream",
     "text": [
      "Input :  the movie was not entertaining\n",
      "Prediction :  0.56\n",
      "Sentiment :  Positive\n",
      "-----------------------\n",
      "Input :  Watched #Sanju and loved with incredible Awards winning acting by #RanbirKapoor Great Acting Take it to #OscarAward . @vickykaushal09 and @SirPareshRawal @RajkumarHirani..\n",
      "Prediction :  0.82\n",
      "Sentiment :  Positive\n",
      "-----------------------\n",
      "Input :  PEOPLE WHO HAVE ACTUALLY GONE THROUGH SIMILAR EXPERIENCE CAN APPRECIATE THIS MOVIE BETTER, THE IMPACT IT LEAVES ON A FAMILY AND THE COURAGE IT TAKES FOR A PERSON TO GIVE IT ALL UP RISE FOR HIS OWN ASHES AND FIGHT THE WORLD IS A COURAGE YOU RARELY FIND THESE DAYS, A TRUE BRAVE HEART HE(SANJAY DUTT) IS AND A MUCH GREATER MAN HIS FATHER SUNIL DUTT CANNOT BE JUST CAPTURED IN WORDS SUCH PEOPLE ARE A RARITY IN TODAYS WORLD BUT STILL EXIST (JUST A FEW) AND MUCH NEEDED IN TODAYS SOCIETY \n",
      "Prediction :  0.5\n",
      "Sentiment :  Positive\n",
      "-----------------------\n",
      "Input :  outstanding performance of sanju.I loved all the songs.\n",
      "Prediction :  0.97\n",
      "Sentiment :  Positive\n",
      "-----------------------\n",
      "Input :  Average movie. only acting is the reason to make this movie hit\n",
      "Prediction :  0.71\n",
      "Sentiment :  Negative\n",
      "-----------------------\n"
     ]
    }
   ],
   "source": [
    "for review in input_reviews:\n",
    "    \n",
    "    prob = classifier.prob_classify(extract_features(review.split()))\n",
    "#     print(\"Probability\",prob)\n",
    "    pred = prob.max()\n",
    "#     print(\"Prediction\",pred)\n",
    "    \n",
    "    print(\"Input : \",review)\n",
    "    print(\"Prediction : \",round(prob.prob(pred), 2))\n",
    "    print(\"Sentiment : \",pred)\n",
    "    print(\"-----------------------\")"
   ]
  },
  {
   "cell_type": "code",
   "execution_count": null,
   "metadata": {
    "collapsed": true
   },
   "outputs": [],
   "source": []
  }
 ],
 "metadata": {
  "kernelspec": {
   "display_name": "Python 3",
   "language": "python",
   "name": "python3"
  },
  "language_info": {
   "codemirror_mode": {
    "name": "ipython",
    "version": 3
   },
   "file_extension": ".py",
   "mimetype": "text/x-python",
   "name": "python",
   "nbconvert_exporter": "python",
   "pygments_lexer": "ipython3",
   "version": "3.5.4"
  }
 },
 "nbformat": 4,
 "nbformat_minor": 2
}
