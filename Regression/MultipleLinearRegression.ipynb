{
 "cells": [
  {
   "cell_type": "code",
   "execution_count": 1,
   "metadata": {
    "collapsed": true
   },
   "outputs": [],
   "source": [
    "import numpy as np\n",
    "import matplotlib.pyplot as plt\n",
    "from mpl_toolkits.mplot3d import Axes3D"
   ]
  },
  {
   "cell_type": "code",
   "execution_count": 2,
   "metadata": {
    "collapsed": true
   },
   "outputs": [],
   "source": [
    "import pandas as pd\n",
    "\n",
    "dataset = pd.read_csv('data/student.csv')"
   ]
  },
  {
   "cell_type": "code",
   "execution_count": 3,
   "metadata": {},
   "outputs": [
    {
     "data": {
      "text/html": [
       "<div>\n",
       "<style>\n",
       "    .dataframe thead tr:only-child th {\n",
       "        text-align: right;\n",
       "    }\n",
       "\n",
       "    .dataframe thead th {\n",
       "        text-align: left;\n",
       "    }\n",
       "\n",
       "    .dataframe tbody tr th {\n",
       "        vertical-align: top;\n",
       "    }\n",
       "</style>\n",
       "<table border=\"1\" class=\"dataframe\">\n",
       "  <thead>\n",
       "    <tr style=\"text-align: right;\">\n",
       "      <th></th>\n",
       "      <th>Math</th>\n",
       "      <th>Reading</th>\n",
       "      <th>Writing</th>\n",
       "    </tr>\n",
       "  </thead>\n",
       "  <tbody>\n",
       "    <tr>\n",
       "      <th>count</th>\n",
       "      <td>1000.000000</td>\n",
       "      <td>1000.000000</td>\n",
       "      <td>1000.000000</td>\n",
       "    </tr>\n",
       "    <tr>\n",
       "      <th>mean</th>\n",
       "      <td>67.290000</td>\n",
       "      <td>69.872000</td>\n",
       "      <td>68.616000</td>\n",
       "    </tr>\n",
       "    <tr>\n",
       "      <th>std</th>\n",
       "      <td>15.085008</td>\n",
       "      <td>14.657027</td>\n",
       "      <td>15.241287</td>\n",
       "    </tr>\n",
       "    <tr>\n",
       "      <th>min</th>\n",
       "      <td>13.000000</td>\n",
       "      <td>19.000000</td>\n",
       "      <td>14.000000</td>\n",
       "    </tr>\n",
       "    <tr>\n",
       "      <th>25%</th>\n",
       "      <td>58.000000</td>\n",
       "      <td>60.750000</td>\n",
       "      <td>58.000000</td>\n",
       "    </tr>\n",
       "    <tr>\n",
       "      <th>50%</th>\n",
       "      <td>68.000000</td>\n",
       "      <td>70.000000</td>\n",
       "      <td>69.500000</td>\n",
       "    </tr>\n",
       "    <tr>\n",
       "      <th>75%</th>\n",
       "      <td>78.000000</td>\n",
       "      <td>81.000000</td>\n",
       "      <td>79.000000</td>\n",
       "    </tr>\n",
       "    <tr>\n",
       "      <th>max</th>\n",
       "      <td>100.000000</td>\n",
       "      <td>100.000000</td>\n",
       "      <td>100.000000</td>\n",
       "    </tr>\n",
       "  </tbody>\n",
       "</table>\n",
       "</div>"
      ],
      "text/plain": [
       "              Math      Reading      Writing\n",
       "count  1000.000000  1000.000000  1000.000000\n",
       "mean     67.290000    69.872000    68.616000\n",
       "std      15.085008    14.657027    15.241287\n",
       "min      13.000000    19.000000    14.000000\n",
       "25%      58.000000    60.750000    58.000000\n",
       "50%      68.000000    70.000000    69.500000\n",
       "75%      78.000000    81.000000    79.000000\n",
       "max     100.000000   100.000000   100.000000"
      ]
     },
     "execution_count": 3,
     "metadata": {},
     "output_type": "execute_result"
    }
   ],
   "source": [
    "dataset.describe()"
   ]
  },
  {
   "cell_type": "code",
   "execution_count": 4,
   "metadata": {},
   "outputs": [
    {
     "data": {
      "text/plain": [
       "(1000, 3)"
      ]
     },
     "execution_count": 4,
     "metadata": {},
     "output_type": "execute_result"
    }
   ],
   "source": [
    "dataset.shape"
   ]
  },
  {
   "cell_type": "code",
   "execution_count": 5,
   "metadata": {},
   "outputs": [
    {
     "data": {
      "text/html": [
       "<div>\n",
       "<style>\n",
       "    .dataframe thead tr:only-child th {\n",
       "        text-align: right;\n",
       "    }\n",
       "\n",
       "    .dataframe thead th {\n",
       "        text-align: left;\n",
       "    }\n",
       "\n",
       "    .dataframe tbody tr th {\n",
       "        vertical-align: top;\n",
       "    }\n",
       "</style>\n",
       "<table border=\"1\" class=\"dataframe\">\n",
       "  <thead>\n",
       "    <tr style=\"text-align: right;\">\n",
       "      <th></th>\n",
       "      <th>Math</th>\n",
       "      <th>Reading</th>\n",
       "      <th>Writing</th>\n",
       "    </tr>\n",
       "  </thead>\n",
       "  <tbody>\n",
       "    <tr>\n",
       "      <th>0</th>\n",
       "      <td>48</td>\n",
       "      <td>68</td>\n",
       "      <td>63</td>\n",
       "    </tr>\n",
       "    <tr>\n",
       "      <th>1</th>\n",
       "      <td>62</td>\n",
       "      <td>81</td>\n",
       "      <td>72</td>\n",
       "    </tr>\n",
       "    <tr>\n",
       "      <th>2</th>\n",
       "      <td>79</td>\n",
       "      <td>80</td>\n",
       "      <td>78</td>\n",
       "    </tr>\n",
       "    <tr>\n",
       "      <th>3</th>\n",
       "      <td>76</td>\n",
       "      <td>83</td>\n",
       "      <td>79</td>\n",
       "    </tr>\n",
       "    <tr>\n",
       "      <th>4</th>\n",
       "      <td>59</td>\n",
       "      <td>64</td>\n",
       "      <td>62</td>\n",
       "    </tr>\n",
       "  </tbody>\n",
       "</table>\n",
       "</div>"
      ],
      "text/plain": [
       "   Math  Reading  Writing\n",
       "0    48       68       63\n",
       "1    62       81       72\n",
       "2    79       80       78\n",
       "3    76       83       79\n",
       "4    59       64       62"
      ]
     },
     "execution_count": 5,
     "metadata": {},
     "output_type": "execute_result"
    }
   ],
   "source": [
    "dataset.head()"
   ]
  },
  {
   "cell_type": "code",
   "execution_count": 6,
   "metadata": {
    "collapsed": true
   },
   "outputs": [],
   "source": [
    "X = dataset['Math'].values\n",
    "y = dataset['Reading'].values\n",
    "z = dataset['Writing'].values"
   ]
  },
  {
   "cell_type": "code",
   "execution_count": 10,
   "metadata": {},
   "outputs": [
    {
     "data": {
      "image/png": "[encoded data removed]",
      "text/plain": [
       "<matplotlib.figure.Figure at 0x12d4f21e208>"
      ]
     },
     "metadata": {},
     "output_type": "display_data"
    }
   ],
   "source": [
    "figure = plt.figure()\n",
    "ax = Axes3D(figure)\n",
    "ax.scatter(X,y,z)\n",
    "plt.show()"
   ]
  },
  {
   "cell_type": "code",
   "execution_count": 11,
   "metadata": {
    "collapsed": true
   },
   "outputs": [],
   "source": [
    "features = []\n",
    "\n",
    "for math, read in zip(dataset['Math'], dataset['Reading']):\n",
    "    features.append([math,read])"
   ]
  },
  {
   "cell_type": "code",
   "execution_count": 15,
   "metadata": {},
   "outputs": [],
   "source": [
    "from sklearn.linear_model import LinearRegression"
   ]
  },
  {
   "cell_type": "code",
   "execution_count": 16,
   "metadata": {
    "collapsed": true
   },
   "outputs": [],
   "source": [
    "regression = LinearRegression()"
   ]
  },
  {
   "cell_type": "code",
   "execution_count": 18,
   "metadata": {},
   "outputs": [
    {
     "data": {
      "text/plain": [
       "LinearRegression(copy_X=True, fit_intercept=True, n_jobs=1, normalize=False)"
      ]
     },
     "execution_count": 18,
     "metadata": {},
     "output_type": "execute_result"
    }
   ],
   "source": [
    "regression.fit(features,z)"
   ]
  },
  {
   "cell_type": "code",
   "execution_count": 21,
   "metadata": {},
   "outputs": [],
   "source": [
    "z = z.reshape(len(z),1)"
   ]
  },
  {
   "cell_type": "code",
   "execution_count": 25,
   "metadata": {},
   "outputs": [],
   "source": [
    "y_pred = regression.predict(features)"
   ]
  },
  {
   "cell_type": "code",
   "execution_count": 26,
   "metadata": {},
   "outputs": [
    {
     "data": {
      "text/plain": [
       "array([ 65.05966153,  78.24019111,  78.96172882,  81.40522186,\n",
       "        62.47368629,  81.64370627,  81.73970848,  46.65765924,\n",
       "        75.41268922,  77.81274452,  67.31419239,  85.57371248,\n",
       "        43.97568179,  77.33273346,  68.12869007,  43.30366631,\n",
       "        68.94318775,  46.56165703,  87.29871006,  74.02522051,\n",
       "        57.68270242,  64.10268165,  70.52570313,  51.93169642,\n",
       "        83.36870385,  87.01070342,  64.58269271,  72.20117848,\n",
       "        77.42873567,  79.34269543,  75.46221145,  87.10670563,\n",
       "        72.05869628,  68.65822336,  41.72419317,  58.59016006,\n",
       "        51.59416756,  75.84622029,  72.53870734,  42.63165082,\n",
       "        84.7592148 ,  76.13422693,  61.22869978,  48.0481702 ,\n",
       "        66.30769029,  70.71770756,  51.69016977,  72.05869628,\n",
       "        98.22775102,  71.48268301,  99.18777314,  86.58021459,\n",
       "        78.24019111,  49.29315671,  48.57466124,  48.24017462,\n",
       "        54.56719389,  48.76666566,  68.75422557,  79.00820881,\n",
       "        54.37518946,  90.17573418,  97.36677335,  81.02121302,\n",
       "        43.64119517,  90.65574524,  65.82767923,  83.32526611,\n",
       "        59.69570663,  57.68270242,  60.60620652,  57.92118682,\n",
       "        47.23367251,  61.65918861,  63.48018839,  51.21015871,\n",
       "        65.4931926 ,  44.21112395,  75.7037381 ,  64.3442083 ,\n",
       "        81.07073524,  78.43219553,  69.56568101,  75.46221145,\n",
       "        43.97263955,  63.43370841,  84.66321259,  77.47521566,\n",
       "        77.18720902,  80.39871976,  50.15717662,  71.82021187,\n",
       "        69.85368765,  70.04873431,  64.19868386,  67.45667459,\n",
       "        59.69266438,  62.04319746,  97.65173774,  86.72573903,\n",
       "        29.9311323 ,  51.69016977,  74.26370492,  52.59762742,\n",
       "        38.17515357,  77.47521566,  74.69723599,  43.11166188,\n",
       "        76.66071797,  45.69763712,  67.84068344,  79.72670427,\n",
       "        85.67275694,  88.5932188 ,  46.36965261,  81.54770406,\n",
       "        54.22966502,  74.35970713,  85.57675473,  74.7932382 ,\n",
       "        68.51269892,  78.96172882,  82.12371733,  65.49623485,\n",
       "        47.08814807,  46.84966367,  37.02312702,  54.61367387,\n",
       "        67.89324791,  83.13326168,  75.12772482,  77.76018005,\n",
       "        66.59569692,  54.8056783 ,  54.47119168,  78.86572661,\n",
       "        79.49126211,  79.82574873,  87.87472333,  83.65975273,\n",
       "        63.91067723,  96.64523564,  69.71120545,  67.69820124,\n",
       "        64.91717933,  82.17019732,  66.69474138,  98.22775102,\n",
       "        76.32623135,  59.50065996,  60.51020431,  83.51422829,\n",
       "        69.71120545,  56.38819367,  60.03019325,  46.46565482,\n",
       "        87.58671669,  72.34670292,  62.13615742,  71.82021187,\n",
       "        81.11721523,  66.06616363,  38.98965125,  73.92617605,\n",
       "        69.28071662,  72.20422072,  86.05676579,  72.25070071,\n",
       "        67.64867901,  94.63527367,  57.34517355,  74.26370492,\n",
       "        63.72171505,  58.44767787,  71.57868522,  89.5997209 ,\n",
       "        83.99423935,  61.51670641,  75.41268922,  62.80817291,\n",
       "        65.63871705,  57.20269135,  64.72821715,  61.94719524,\n",
       "        67.16866795,  80.82920859,  76.18070691,  83.60718826,\n",
       "        80.73624862,  84.57025262,  57.10668914,  89.17227431,\n",
       "        61.51670641,  68.61174338,  52.55114743,  73.54520945,\n",
       "        86.48725462,  66.97970577,  73.78369386,  74.60123378,\n",
       "        87.20575009,  69.51920103,  62.47368629,  67.22123242,\n",
       "        85.19274588,  46.03212374,  58.30519567,  48.19065239,\n",
       "        72.92271619,  63.33466395,  56.67620031,  59.16921558,\n",
       "        74.7932382 ,  53.94165839,  65.78119924,  94.63527367,\n",
       "        44.26064618,  91.13271405,  60.55668429,  83.37174609,\n",
       "        52.65019189,  72.73071177,  62.81121515,  77.33273346,\n",
       "        80.54120196,  77.09120681,  65.53967259,  71.72420966,\n",
       "        63.09617955,  73.97874052,  52.83915407,  61.03669535,\n",
       "        75.60773589,  73.59168943,  78.81620438,  85.86171912,\n",
       "        80.6867264 ,  40.76112881,  69.13519218,  79.44173988,\n",
       "        73.06519839,  32.52014978,  69.56568101,  47.42567694,\n",
       "        63.28818397,  79.72670427,  47.32967473,  31.46412545,\n",
       "        61.94719524,  42.05563755,  92.2847406 ,  61.32470199,\n",
       "        51.1141565 ,  82.55420617,  84.56721038,  78.09770891,\n",
       "        38.84412681,  73.59168943,  72.92271619,  62.23520188,\n",
       "        63.76819503,  62.95369735,  49.20019674,  17.66110261,\n",
       "        62.95369735,  84.235766  ,  77.04168458,  68.84718554,\n",
       "        71.29372083,  60.7951687 ,  95.54577357,  46.56165703,\n",
       "        65.97320367,  41.86363312,  79.24973546,  59.11969335,\n",
       "        57.92118682,  79.44173988,  67.22123242,  66.69169913,\n",
       "        69.99921209,  52.88563405,  49.38915892,  63.72171505,\n",
       "        73.54520945,  85.43123029,  72.82671398,  44.45569285,\n",
       "        55.09064269,  61.89767302,  66.31073253,  75.65421587,\n",
       "        65.15870598,  68.37021672,  53.17668293,  53.08068072,\n",
       "        48.47865903,  41.38666431,  77.04472682,  58.20919346,\n",
       "        92.66874945,  89.93724977,  62.13919967,  45.12466609,\n",
       "        66.69169913,  56.34171369,  66.2612103 ,  44.11816399,\n",
       "        78.57771997,  83.89823714,  55.33216934,  89.69572311,\n",
       "        58.97416891,  84.42472818,  75.65421587,  73.73721387,\n",
       "        72.44270513,  76.66071797,  66.93018354,  64.44021052,\n",
       "        52.69667187,  63.52971062,  69.08871219,  68.94623   ,\n",
       "        63.62571283,  74.74371598,  81.74275073,  70.18817427,\n",
       "        76.37575358,  78.91524884,  81.93171291,  68.89670777,\n",
       "        63.57619061,  53.94165839,  95.35376914,  64.05315942,\n",
       "        69.99921209,  60.79821094,  90.27173639,  54.42166945,\n",
       "        79.53774209,  58.54368008,  91.71176957,  68.27117227,\n",
       "        58.59016006,  76.90224463,  95.78425797,  69.13519218,\n",
       "        63.14570177,  76.23022914,  76.75367794,  30.69915   ,\n",
       "        94.440227  ,  62.61921073,  89.02674987,  32.66263198,\n",
       "        73.40272725,  83.32222386,  58.7356845 ,  76.80320017,\n",
       "        82.8422128 ,  82.22276179,  53.27268515,  41.1481799 ,\n",
       "        57.5867002 ,  60.99021537,  46.65765924,  73.21072283,\n",
       "        65.97320367,  68.1782123 ,  86.19924798,  65.54271483,\n",
       "        67.69820124,  76.23022914,  69.28071662,  59.69266438,\n",
       "        63.28818397,  71.00571419,  81.59722629,  84.13976379,\n",
       "        84.28224598,  79.58726432,  69.3271966 ,  80.01471091,\n",
       "        70.863232  ,  64.63221494,  71.14819639,  54.85215828,\n",
       "        68.3206945 ,  82.98773724,  59.93419103,  73.49568722,\n",
       "        44.02216177,  81.98123514,  54.27918725,  55.14016492,\n",
       "        74.50523157,  73.59168943,  85.57371248,  65.68519703,\n",
       "        98.41975544,  63.38418618,  73.44920723,  61.99367523,\n",
       "        65.73471926,  79.7762265 ,  73.44920723,  46.80318368,\n",
       "        65.73167701,  61.03669535,  90.84774966,  91.90377399,\n",
       "        64.39068829,  78.67372218,  61.99671747,  54.75919831,\n",
       "        39.70814672,  78.96172882,  94.58575144,  71.82021187,\n",
       "        63.14265953,  62.32816185,  76.13422693,  46.61117926,\n",
       "        63.195224  ,  96.50275344,  50.53814322,  39.22813566,\n",
       "        80.77968636,  87.20575009,  71.96573631,  38.27115578,\n",
       "        72.6377518 ,  78.81924663,  54.75615607,  73.1612006 ,\n",
       "        85.5272325 ,  94.440227  ,  69.08871219,  38.17515357,\n",
       "        86.24572797,  81.88523292,  52.02769863,  93.77125376,\n",
       "        71.86669186,  78.86572661,  80.92825305,  55.76265817,\n",
       "        67.31723464,  58.4972001 ,  51.45168536,  65.63871705,\n",
       "        71.1017164 ,  58.7356845 ,  44.83665946,  83.32222386,\n",
       "        44.45265061,  86.5337346 ,  72.96919617,  66.07224812,\n",
       "        61.65918861,  49.96212995,  48.00169021,  46.70718147,\n",
       "        63.81771726,  82.984695  ,  69.3271966 ,  75.51173367,\n",
       "        63.48018839,  87.15622786,  65.92672368,  74.7932382 ,\n",
       "        79.43869764,  60.46372432,  74.31322714,  82.74621059,\n",
       "        63.81771726,  52.31570527,  61.13269756,  54.13366281,\n",
       "        80.16023535,  57.82518461,  70.28721872,  69.08871219,\n",
       "        76.2271869 ,  77.33273346,  46.75366145,  78.67372218,\n",
       "        50.25317883,  70.863232  ,  79.87222871,  71.57868522,\n",
       "        57.29869357,  96.93324228,  83.56375051,  77.3761712 ,\n",
       "        67.17171019,  86.38821016,  50.34918104,  53.79917619,\n",
       "        68.41669671,  36.45015599,  58.11319125,  63.62267059,\n",
       "        56.72268029,  65.35071041,  69.80720766,  86.6762168 ,\n",
       "        77.47521566,  72.73071177,  68.32373674,  54.27918725,\n",
       "        55.23616713,  47.71064133,  76.42223357,  40.5226444 ,\n",
       "        59.69570663,  45.17114608,  81.78923071,  52.45818746,\n",
       "        80.6867264 ,  67.4101946 ,  58.16271348,  74.40922936,\n",
       "        50.82614986,  58.68920452,  75.94222251,  73.97874052,\n",
       "        69.37671883,  53.36868736,  46.80318368,  60.26867765,\n",
       "        82.12067509,  27.10363041,  98.70776208,  68.22469228,\n",
       "        86.48421237,  54.42166945,  45.74715935,  81.26273967,\n",
       "        58.78520673,  41.81715314,  61.08621758,  84.42472818,\n",
       "        76.42223357,  89.55019867,  76.66376022,  96.54923343,\n",
       "        81.59722629,  80.01471091,  71.43620302,  56.24266923,\n",
       "        91.75824955,  66.73817912,  67.79420345,  60.94069314,\n",
       "        75.55821366,  70.04873431,  62.33120409,  44.2141662 ,\n",
       "        69.3271966 ,  77.33273346,  89.98677199,  39.85367116,\n",
       "        77.04472682,  82.31572176,  56.5801981 ,  82.74925283,\n",
       "        62.33120409,  96.88372005,  51.83265196,  64.67869492,\n",
       "        65.59223706,  71.91621408,  74.35970713,  65.6356748 ,\n",
       "        65.6356748 ,  55.18968714,  67.69820124,  66.93322579,\n",
       "        86.29220795,  59.93419103,  66.74122136,  55.42817155,\n",
       "        83.32222386,  69.28071662,  68.46317669,  74.9357204 ,\n",
       "        41.09865767,  66.88370356,  60.46068208,  99.18777314,\n",
       "        51.40520538,  65.20822821,  62.18567965,  63.19218176,\n",
       "        81.16673746,  89.02674987,  97.36677335,  64.92022158,\n",
       "        71.67468743,  82.93821501,  70.95923421,  92.86075387,\n",
       "        61.75519082,  69.75768543,  66.69169913,  62.28168186,\n",
       "        64.10268165,  68.65822336,  77.8592245 ,  92.86075387,\n",
       "        72.44270513,  76.42527581,  50.44518325,  69.76072768,\n",
       "        80.87873082,  35.34765168,  71.34020081,  68.94318775,\n",
       "        69.61520324,  31.51364768,  77.52169564,  52.17018083,\n",
       "        69.03918997,  77.76322229,  97.31725112,  79.05773103,\n",
       "        81.02121302,  84.27920374,  52.45514522,  81.6932285 ,\n",
       "        83.32222386,  94.82423585,  85.14626589,  96.45627346,\n",
       "        68.27421451,  71.67772968,  83.6102305 ,  62.33120409,\n",
       "        51.88217419,  61.32470199,  95.59225355,  63.62267059,\n",
       "        78.86876885,  68.3206945 ,  65.2547082 ,  77.61769785,\n",
       "        68.51269892,  80.35223978,  88.97722765,  69.28071662,\n",
       "        82.03075737,  57.10668914,  95.83073796,  75.60773589,\n",
       "        59.21265332,  78.19675337,  60.70220873,  79.20021323,\n",
       "        58.88120894,  63.19218176,  98.51575765,  68.89670777,\n",
       "        74.02522051,  47.47215692,  69.42015657,  90.94375187,\n",
       "        56.77220252,  62.28168186,  49.39220117,  97.93974438,\n",
       "        37.79114472,  84.28224598,  77.8592245 ,  61.37118197,\n",
       "        58.83168672,  71.19771862,  68.03268786,  74.9357204 ,\n",
       "        81.40826411,  82.12371733,  51.88217419,  70.38017869,\n",
       "        98.32375323,  68.46621894,  51.30616092,  88.69226325,\n",
       "        46.03516599,  78.62419996,  99.18777314,  41.76763091,\n",
       "        89.0762721 ,  56.91164247,  41.24418211,  21.11414001,\n",
       "        63.28818397,  57.24917134,  63.38418618,  78.72020217,\n",
       "        49.34267894,  48.81314565,  40.76112881,  91.03975408,\n",
       "        38.84412681,  60.17267544,  84.37520595,  59.35817776,\n",
       "        76.56471576,  97.17476893,  62.5696885 ,  40.18511553,\n",
       "        88.69226325,  82.31572176,  59.16617334,  71.43620302,\n",
       "        77.23673125,  69.56872325,  84.85521701,  65.06270377,\n",
       "        76.42223357,  85.96076357,  59.6461844 ,  81.78923071,\n",
       "        84.80873703,  59.07017113,  91.6592051 ,  63.38418618,\n",
       "        74.59819154,  70.81370977,  76.70719796,  54.47119168,\n",
       "        41.72115093,  88.01720552,  84.13672154,  88.4507366 ,\n",
       "        74.59819154,  36.25815157,  74.79019596,  53.56069178,\n",
       "        61.61270862,  79.68022429,  82.69973061,  98.51575765,\n",
       "        61.94719524,  96.45627346,  80.73624862,  66.83722357,\n",
       "        56.4377159 ,  73.97874052,  91.47024292,  69.75768543,\n",
       "        66.93322579,  62.80817291,  80.64024641,  71.91621408,\n",
       "        72.34670292,  67.60219903,  81.26273967,  60.55972653,\n",
       "        61.47022643,  86.96422344,  53.84565617,  74.50218932,\n",
       "        76.32318911,  75.50869143,  66.97970577,  73.68769164,\n",
       "        50.58766545,  17.08508934,  59.35817776,  91.3742407 ,\n",
       "        73.40272725,  67.98620788,  60.70220873,  62.04015521,\n",
       "        72.34670292,  60.60620652,  77.33273346,  71.1017164 ,\n",
       "        45.50867494,  88.16272996,  59.45417997,  73.7867361 ,\n",
       "        83.46470606,  60.46372432,  46.46565482,  30.0736145 ,\n",
       "        73.7867361 ,  55.71617819,  63.96019945,  71.67772968,\n",
       "        85.96076357,  66.4036925 ,  79.96823093,  82.12675958,\n",
       "        67.74468122,  50.15717662,  99.18777314,  62.33120409,\n",
       "        60.41115985,  60.70220873,  70.33674095,  56.14666702,\n",
       "        79.87222871,  50.68366766,  55.9546626 ,  57.63318019,\n",
       "        63.72171505,  46.75366145,  69.71120545,  85.33522807,\n",
       "        75.75021808,  55.80913816,  58.3547179 ,  84.76225704,\n",
       "        78.57771997,  59.02369114,  67.64867901,  54.51767166,\n",
       "        88.78826547,  72.48918511,  59.59970441,  96.31074902,\n",
       "        67.98316563,  64.43716827,  71.38972304,  78.14723114,\n",
       "        60.60620652,  56.67315807,  99.18777314,  58.30215343,\n",
       "        55.0441627 ,  67.79420345,  82.55724841,  58.45072011,\n",
       "        84.71273482,  78.7697244 ,  63.09617955,  86.05676579,\n",
       "        80.54120196,  72.58518733,  66.49969471,  73.30672504,\n",
       "        48.86266788,  44.64465503,  71.14819639,  50.68366766,\n",
       "        77.42873567,  86.48725462,  37.93362692,  58.68920452,\n",
       "        81.83875294,  91.75824955,  78.1441889 ,  62.95369735,\n",
       "        67.98620788,  78.86572661,  53.27268515,  59.69570663,\n",
       "        73.87969607,  79.53774209,  63.3377062 ,  66.49969471,\n",
       "        67.89020566,  43.68463291,  69.66472547,  63.57619061,\n",
       "        56.43467366,  74.50523157,  58.20919346,  74.40922936,\n",
       "        80.25623756,  72.15469849,  58.7356845 ,  72.0122163 ,\n",
       "        98.61175987,  91.47024292,  86.86822122,  70.57218312,\n",
       "        61.75519082,  43.25718632,  52.93819853,  66.25816806,\n",
       "        84.71273482,  63.09617955,  65.78119924,  73.21072283,\n",
       "        45.02866388,  88.64274103,  57.87470684,  81.35874188,\n",
       "        69.13519218,  68.56222115,  44.97914165,  63.76819503,\n",
       "        66.06920588,  69.13519218,  80.20671533,  55.76570042,\n",
       "        73.30672504,  72.87319396,  83.89823714,  50.25317883,\n",
       "        95.2082447 ,  96.88676229,  42.2971642 ,  46.60813701,\n",
       "        91.27823849,  77.38225569,  69.85672989,  56.24266923,\n",
       "        85.04722144,  77.42873567,  64.53621273,  38.12867358,\n",
       "        61.65918861,  61.13269756,  66.97970577,  50.3461388 ,\n",
       "        64.15220388,  61.70566859,  83.41822607,  77.66722008,\n",
       "        80.77968636,  74.1677027 ,  57.15316913,  83.41822607,\n",
       "        47.47519917,  65.20518597,  92.2847406 ,  79.39221765,\n",
       "        36.06614714,  93.14876051,  46.89918589,  73.35320502,\n",
       "        80.25623756,  72.97223842,  58.78520673,  82.12371733,\n",
       "        81.35874188,  69.42319881,  70.62170534,  65.83072147,\n",
       "        68.17517006,  86.6762168 ,  58.92768893,  43.49567073,\n",
       "        54.75919831,  85.04722144,  42.00915756,  55.71617819,\n",
       "        62.95065511,  91.47024292,  85.00074145,  60.55668429,\n",
       "        63.72171505,  65.20518597,  55.28568936,  76.27670913,\n",
       "        76.23022914,  81.50122408,  69.66472547,  64.96670156,\n",
       "        68.80070556,  65.78119924,  66.2612103 ,  70.81370977,\n",
       "        63.91067723,  90.99023186,  68.22469228,  71.8697341 ,\n",
       "        76.37271134,  55.37864932,  70.04569207,  63.19218176,\n",
       "        79.96823093,  79.7762265 ,  66.35721251,  82.36524399,\n",
       "        83.22622165,  52.02465639,  70.90971198,  59.31169778,\n",
       "        60.70220873,  74.88924042,  64.87069935,  62.08967744,\n",
       "        62.95369735,  90.3677386 ,  57.24917134,  50.49470548,\n",
       "        95.15872247,  62.95369735,  51.45168536,  72.82671398,\n",
       "        83.84871491,  86.29525019,  81.16673746,  64.96670156])"
      ]
     },
     "execution_count": 26,
     "metadata": {},
     "output_type": "execute_result"
    }
   ],
   "source": [
    "y_pred"
   ]
  },
  {
   "cell_type": "code",
   "execution_count": 27,
   "metadata": {
    "collapsed": true
   },
   "outputs": [],
   "source": [
    "from sklearn.metrics import mean_squared_error"
   ]
  },
  {
   "cell_type": "code",
   "execution_count": 28,
   "metadata": {},
   "outputs": [
    {
     "data": {
      "text/plain": [
       "20.911295988853357"
      ]
     },
     "execution_count": 28,
     "metadata": {},
     "output_type": "execute_result"
    }
   ],
   "source": [
    "mean_squared_error(z,y_pred)"
   ]
  },
  {
   "cell_type": "code",
   "execution_count": null,
   "metadata": {},
   "outputs": [],
   "source": []
  },
  {
   "cell_type": "code",
   "execution_count": null,
   "metadata": {
    "collapsed": true
   },
   "outputs": [],
   "source": []
  }
 ],
 "metadata": {
  "kernelspec": {
   "display_name": "Python 3",
   "language": "python",
   "name": "python3"
  },
  "language_info": {
   "codemirror_mode": {
    "name": "ipython",
    "version": 3
   },
   "file_extension": ".py",
   "mimetype": "text/x-python",
   "name": "python",
   "nbconvert_exporter": "python",
   "pygments_lexer": "ipython3",
   "version": "3.5.4"
  }
 },
 "nbformat": 4,
 "nbformat_minor": 2
}
