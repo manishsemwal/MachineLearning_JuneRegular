{
 "cells": [
  {
   "cell_type": "code",
   "execution_count": 1,
   "metadata": {
    "collapsed": true
   },
   "outputs": [],
   "source": [
    "import bs4\n",
    "import urllib.request"
   ]
  },
  {
   "cell_type": "code",
   "execution_count": 2,
   "metadata": {
    "collapsed": true
   },
   "outputs": [],
   "source": [
    "url = urllib.request.urlopen('https://www.amazon.in/s/ref=nb_sb_ss_c_1_3?url=search-alias%3Daps&field-keywords=iphone+x&sprefix=iph%2Caps%2C292&crid=201V3LFFB852O')"
   ]
  },
  {
   "cell_type": "code",
   "execution_count": 3,
   "metadata": {
    "collapsed": true
   },
   "outputs": [],
   "source": [
    "soup = bs4.BeautifulSoup(url, 'lxml')"
   ]
  },
  {
   "cell_type": "code",
   "execution_count": 4,
   "metadata": {
    "collapsed": true
   },
   "outputs": [],
   "source": [
    "p_title = soup.find_all('h2', class_='s-access-title')"
   ]
  },
  {
   "cell_type": "code",
   "execution_count": 6,
   "metadata": {},
   "outputs": [
    {
     "name": "stdout",
     "output_type": "stream",
     "text": [
      "Apple iPhone X (Space Grey, 64GB)\n",
      "Apple iPhone X (Silver, 256GB)\n",
      "Apple iPhone X (Silver, 64GB)\n",
      "Apple iPhone X (Space Grey, 256GB)\n",
      "Google Pixel 2 XL (White)\n",
      "Apple iPhone SE (Gold, 32GB)\n",
      "Sajni Creations iPhone X Back Cover, Luxury Smooth Ultra Thin Mirror Effect Case for Apple iPhone X - White\n",
      "Spigen Ultra Hybrid (057CS22129) Case for Apple iPhone X (2017) - Matte Black\n",
      "Annant Entp.™ Premium Quality Apple iPhone X Full Matte 5D Tempered Glass With 9H hardness, Full Body Protection, Anti-Fingerprint, HD Electroplated Scratch Shock Resistant Matte Tempered Glass For Apple iPhone X - (Black)\n",
      "Plus 0.3 mm Anti-Fingerprint Matte Finish Nano Technology German Schott Glass Tempered Glass Screen Protector Guard For Apple iPhone X\n",
      "Annant Anti-Scratch HD+ Clear Tempered Glass Back Camera Lens Protector for Apple iPhone X\n",
      "Spigen Ultra Hybrid (057CS22127) Case for Apple iPhone X (2017) - Crystal Clear\n",
      "GBOS Sports Running Armband For Apple Iphone X With[Fingerprint Unlock Features][Sweat-proof] Light Weight,Slim,Adjustable AB35 (Dark Blue)\n",
      "Lightning Cable Smart LED Auto Disconnect Charger Cable 6.2FT Nylon Braided Sync Charging USB Data Cable with LED Indicator for iPhone X / iPhone 8/ 7/7 Plus /6/6 Plus /6s/6s Plus /5s /iPad mini\n",
      "Silicone iPhone X Case, Slim Fit Liquid Silicone Gel Rubber iPhone X Shockproof Case with Soft Microfiber Cloth Cushion Thin Protective Phone Case for Apple iPhone X/iPhone 10 - Blue\n",
      "Enflamo® iPhone X Case, Ultra Thin TPU Soft Slim Cover Case Durable Flexible Anti-Scratch Full Protective for Apple iPhone X (Black)\n"
     ]
    }
   ],
   "source": [
    "for data in p_title:\n",
    "    print(data.text)"
   ]
  },
  {
   "cell_type": "code",
   "execution_count": null,
   "metadata": {
    "collapsed": true
   },
   "outputs": [],
   "source": []
  }
 ],
 "metadata": {
  "kernelspec": {
   "display_name": "Python 3",
   "language": "python",
   "name": "python3"
  },
  "language_info": {
   "codemirror_mode": {
    "name": "ipython",
    "version": 3
   },
   "file_extension": ".py",
   "mimetype": "text/x-python",
   "name": "python",
   "nbconvert_exporter": "python",
   "pygments_lexer": "ipython3",
   "version": "3.5.4"
  }
 },
 "nbformat": 4,
 "nbformat_minor": 2
}
