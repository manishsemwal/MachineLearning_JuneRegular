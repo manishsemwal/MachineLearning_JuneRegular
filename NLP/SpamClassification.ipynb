{
 "cells": [
  {
   "cell_type": "code",
   "execution_count": 1,
   "metadata": {
    "collapsed": true
   },
   "outputs": [],
   "source": [
    "import io\n",
    "import os\n",
    "import numpy as np\n",
    "import pandas as pd\n",
    "from sklearn.feature_extraction.text import CountVectorizer\n",
    "from sklearn.naive_bayes import MultinomialNB"
   ]
  },
  {
   "cell_type": "code",
   "execution_count": 2,
   "metadata": {},
   "outputs": [
    {
     "name": "stdout",
     "output_type": "stream",
     "text": [
      "emails/\n",
      "emails/ham\n",
      "emails/spam\n"
     ]
    }
   ],
   "source": [
    "path = 'emails/'\n",
    "for root, folder, filename in os.walk(path):\n",
    "    print(root)\n",
    "#     print(filename)"
   ]
  },
  {
   "cell_type": "code",
   "execution_count": 9,
   "metadata": {},
   "outputs": [],
   "source": [
    "file_1 = 'emails/ham/00002.9c4069e25e1ef370c078db7ee85ff9ac'\n",
    "inBody = False\n",
    "lines = []\n",
    "f = io.open(file_1,'r')\n",
    "for line in f:\n",
    "#     print(line)\n",
    "    if inBody == True:\n",
    "        lines.append(line)\n",
    "#         print(lines)\n",
    "    elif line == \"\\n\":\n",
    "        inBody = True\n",
    "f.close()"
   ]
  },
  {
   "cell_type": "code",
   "execution_count": 7,
   "metadata": {},
   "outputs": [
    {
     "data": {
      "text/plain": [
       "['Martin A posted:\\n',\n",
       " 'Tassos Papadopoulos, the Greek sculptor behind the plan, judged that the\\n',\n",
       " ' limestone of Mount Kerdylio, 70 miles east of Salonika and not far from the\\n',\n",
       " ' Mount Athos monastic community, was ideal for the patriotic sculpture. \\n',\n",
       " ' \\n',\n",
       " \" As well as Alexander's granite features, 240 ft high and 170 ft wide, a\\n\",\n",
       " ' museum, a restored amphitheatre and car park for admiring crowds are\\n',\n",
       " 'planned\\n',\n",
       " '---------------------\\n',\n",
       " 'So is this mountain limestone or granite?\\n',\n",
       " \"If it's limestone, it'll weather pretty fast.\\n\",\n",
       " '\\n',\n",
       " '------------------------ Yahoo! Groups Sponsor ---------------------~-->\\n',\n",
       " '4 DVDs Free +s&p Join Now\\n',\n",
       " 'http://us.click.yahoo.com/pt6YBB/NXiEAA/mG3HAA/7gSolB/TM\\n',\n",
       " '---------------------------------------------------------------------~->\\n',\n",
       " '\\n',\n",
       " 'To unsubscribe from this group, send an email to:\\n',\n",
       " 'forteana-unsubscribe@egroups.com\\n',\n",
       " '\\n',\n",
       " ' \\n',\n",
       " '\\n',\n",
       " 'Your use of Yahoo! Groups is subject to http://docs.yahoo.com/info/terms/ \\n',\n",
       " '\\n',\n",
       " '\\n',\n",
       " '\\n']"
      ]
     },
     "execution_count": 7,
     "metadata": {},
     "output_type": "execute_result"
    }
   ],
   "source": [
    "lines"
   ]
  },
  {
   "cell_type": "code",
   "execution_count": 10,
   "metadata": {
    "collapsed": true
   },
   "outputs": [],
   "source": [
    "message = '/n'.join(lines)"
   ]
  },
  {
   "cell_type": "code",
   "execution_count": 11,
   "metadata": {},
   "outputs": [
    {
     "data": {
      "text/plain": [
       "\"Martin A posted:\\n/nTassos Papadopoulos, the Greek sculptor behind the plan, judged that the\\n/n limestone of Mount Kerdylio, 70 miles east of Salonika and not far from the\\n/n Mount Athos monastic community, was ideal for the patriotic sculpture. \\n/n \\n/n As well as Alexander's granite features, 240 ft high and 170 ft wide, a\\n/n museum, a restored amphitheatre and car park for admiring crowds are\\n/nplanned\\n/n---------------------\\n/nSo is this mountain limestone or granite?\\n/nIf it's limestone, it'll weather pretty fast.\\n/n\\n/n------------------------ Yahoo! Groups Sponsor ---------------------~-->\\n/n4 DVDs Free +s&p Join Now\\n/nhttp://us.click.yahoo.com/pt6YBB/NXiEAA/mG3HAA/7gSolB/TM\\n/n---------------------------------------------------------------------~->\\n/n\\n/nTo unsubscribe from this group, send an email to:\\n/nforteana-unsubscribe@egroups.com\\n/n\\n/n \\n/n\\n/nYour use of Yahoo! Groups is subject to http://docs.yahoo.com/info/terms/ \\n/n\\n/n\\n/n\\n\""
      ]
     },
     "execution_count": 11,
     "metadata": {},
     "output_type": "execute_result"
    }
   ],
   "source": [
    "message"
   ]
  },
  {
   "cell_type": "code",
   "execution_count": 14,
   "metadata": {},
   "outputs": [],
   "source": [
    "def read_data(path):\n",
    "    for root, folder, filename in os.walk(path):\n",
    "        for name in filename:\n",
    "            file = os.path.join(root,name)\n",
    "    #         print(file)\n",
    "            inBody = False\n",
    "            lines = []\n",
    "            f = io.open(file,'r', encoding='latin1')\n",
    "            for line in f:\n",
    "                if inBody:\n",
    "                    lines.append(line)\n",
    "                elif line == '\\n':\n",
    "                    inBody = True\n",
    "            f.close()\n",
    "            message = \"\\n\".join(lines)\n",
    "            yield message, path        "
   ]
  },
  {
   "cell_type": "code",
   "execution_count": 15,
   "metadata": {},
   "outputs": [],
   "source": [
    "def df(path, classification):\n",
    "    rows = []\n",
    "    index = []\n",
    "    for message, filename in read_data(path):\n",
    "        rows.append({'message':message,'class':classification})\n",
    "        index.append(filename)\n",
    "        \n",
    "    return pd.DataFrame(data=rows, index=index)\n",
    "\n",
    "dataset = pd.DataFrame({'message':[], 'class':[]})\n",
    "dataset = dataset.append(df('emails/ham', 'ham'))\n",
    "dataset = dataset.append(df('emails/spam', 'spam'))"
   ]
  },
  {
   "cell_type": "code",
   "execution_count": 16,
   "metadata": {},
   "outputs": [
    {
     "data": {
      "text/html": [
       "<div>\n",
       "<style>\n",
       "    .dataframe thead tr:only-child th {\n",
       "        text-align: right;\n",
       "    }\n",
       "\n",
       "    .dataframe thead th {\n",
       "        text-align: left;\n",
       "    }\n",
       "\n",
       "    .dataframe tbody tr th {\n",
       "        vertical-align: top;\n",
       "    }\n",
       "</style>\n",
       "<table border=\"1\" class=\"dataframe\">\n",
       "  <thead>\n",
       "    <tr style=\"text-align: right;\">\n",
       "      <th></th>\n",
       "      <th>class</th>\n",
       "      <th>message</th>\n",
       "    </tr>\n",
       "  </thead>\n",
       "  <tbody>\n",
       "    <tr>\n",
       "      <th>emails/ham</th>\n",
       "      <td>ham</td>\n",
       "      <td>Date:        Wed, 21 Aug 2002 10:54:46 -05...</td>\n",
       "    </tr>\n",
       "    <tr>\n",
       "      <th>emails/ham</th>\n",
       "      <td>ham</td>\n",
       "      <td>Martin A posted:\\n\\nTassos Papadopoulos, the G...</td>\n",
       "    </tr>\n",
       "    <tr>\n",
       "      <th>emails/ham</th>\n",
       "      <td>ham</td>\n",
       "      <td>Man Threatens Explosion In Moscow \\n\\n\\n\\nThur...</td>\n",
       "    </tr>\n",
       "    <tr>\n",
       "      <th>emails/ham</th>\n",
       "      <td>ham</td>\n",
       "      <td>Klez: The Virus That Won't Die\\n\\n \\n\\nAlready...</td>\n",
       "    </tr>\n",
       "    <tr>\n",
       "      <th>emails/ham</th>\n",
       "      <td>ham</td>\n",
       "      <td>&gt;  in adding cream to spaghetti carbonara, whi...</td>\n",
       "    </tr>\n",
       "  </tbody>\n",
       "</table>\n",
       "</div>"
      ],
      "text/plain": [
       "           class                                            message\n",
       "emails/ham   ham      Date:        Wed, 21 Aug 2002 10:54:46 -05...\n",
       "emails/ham   ham  Martin A posted:\\n\\nTassos Papadopoulos, the G...\n",
       "emails/ham   ham  Man Threatens Explosion In Moscow \\n\\n\\n\\nThur...\n",
       "emails/ham   ham  Klez: The Virus That Won't Die\\n\\n \\n\\nAlready...\n",
       "emails/ham   ham  >  in adding cream to spaghetti carbonara, whi..."
      ]
     },
     "execution_count": 16,
     "metadata": {},
     "output_type": "execute_result"
    }
   ],
   "source": [
    "dataset.head()"
   ]
  },
  {
   "cell_type": "code",
   "execution_count": 17,
   "metadata": {},
   "outputs": [
    {
     "data": {
      "text/html": [
       "<div>\n",
       "<style>\n",
       "    .dataframe thead tr:only-child th {\n",
       "        text-align: right;\n",
       "    }\n",
       "\n",
       "    .dataframe thead th {\n",
       "        text-align: left;\n",
       "    }\n",
       "\n",
       "    .dataframe tbody tr th {\n",
       "        vertical-align: top;\n",
       "    }\n",
       "</style>\n",
       "<table border=\"1\" class=\"dataframe\">\n",
       "  <thead>\n",
       "    <tr style=\"text-align: right;\">\n",
       "      <th></th>\n",
       "      <th>class</th>\n",
       "      <th>message</th>\n",
       "    </tr>\n",
       "  </thead>\n",
       "  <tbody>\n",
       "    <tr>\n",
       "      <th>emails/spam</th>\n",
       "      <td>spam</td>\n",
       "      <td>&lt;html&gt;\\n\\n&lt;head&gt;\\n\\n&lt;title&gt;Toy&lt;/title&gt;\\n\\n&lt;/he...</td>\n",
       "    </tr>\n",
       "    <tr>\n",
       "      <th>emails/spam</th>\n",
       "      <td>spam</td>\n",
       "      <td>&lt;html&gt;\\n\\n&lt;head&gt;\\n\\n&lt;title&gt;Untitled Document&lt;/...</td>\n",
       "    </tr>\n",
       "    <tr>\n",
       "      <th>emails/spam</th>\n",
       "      <td>spam</td>\n",
       "      <td>This is an HTML email message.  If you see thi...</td>\n",
       "    </tr>\n",
       "    <tr>\n",
       "      <th>emails/spam</th>\n",
       "      <td>spam</td>\n",
       "      <td>&lt;html&gt;\\n\\n&lt;head&gt;\\n\\n&lt;/head&gt;\\n\\n  &lt;body backgro...</td>\n",
       "    </tr>\n",
       "    <tr>\n",
       "      <th>emails/spam</th>\n",
       "      <td>spam</td>\n",
       "      <td>&lt;STYLE type=\"text/css\"&gt;\\n\\n&lt;!--\\n\\nP{\\n\\n  fon...</td>\n",
       "    </tr>\n",
       "  </tbody>\n",
       "</table>\n",
       "</div>"
      ],
      "text/plain": [
       "            class                                            message\n",
       "emails/spam  spam  <html>\\n\\n<head>\\n\\n<title>Toy</title>\\n\\n</he...\n",
       "emails/spam  spam  <html>\\n\\n<head>\\n\\n<title>Untitled Document</...\n",
       "emails/spam  spam  This is an HTML email message.  If you see thi...\n",
       "emails/spam  spam  <html>\\n\\n<head>\\n\\n</head>\\n\\n  <body backgro...\n",
       "emails/spam  spam  <STYLE type=\"text/css\">\\n\\n<!--\\n\\nP{\\n\\n  fon..."
      ]
     },
     "execution_count": 17,
     "metadata": {},
     "output_type": "execute_result"
    }
   ],
   "source": [
    "dataset.tail()"
   ]
  },
  {
   "cell_type": "code",
   "execution_count": 18,
   "metadata": {},
   "outputs": [
    {
     "data": {
      "text/plain": [
       "(3000, 2)"
      ]
     },
     "execution_count": 18,
     "metadata": {},
     "output_type": "execute_result"
    }
   ],
   "source": [
    "dataset.shape"
   ]
  },
  {
   "cell_type": "code",
   "execution_count": 19,
   "metadata": {},
   "outputs": [
    {
     "data": {
      "text/plain": [
       "MultinomialNB(alpha=1.0, class_prior=None, fit_prior=True)"
      ]
     },
     "execution_count": 19,
     "metadata": {},
     "output_type": "execute_result"
    }
   ],
   "source": [
    "vectorizer = CountVectorizer()\n",
    "counts = vectorizer.fit_transform(dataset['message'].values)\n",
    "\n",
    "classifier = MultinomialNB()\n",
    "targets = dataset['class'].values\n",
    "classifier.fit(counts, targets)"
   ]
  },
  {
   "cell_type": "code",
   "execution_count": 20,
   "metadata": {},
   "outputs": [
    {
     "data": {
      "text/plain": [
       "array(['ham', 'spam'],\n",
       "      dtype='<U4')"
      ]
     },
     "execution_count": 20,
     "metadata": {},
     "output_type": "execute_result"
    }
   ],
   "source": [
    "examples = ['hello there...Hope you doing well',\n",
    "            'Win free movie tickets and offers']\n",
    "example_counts = vectorizer.transform(examples)\n",
    "predictions = classifier.predict(example_counts)\n",
    "predictions"
   ]
  },
  {
   "cell_type": "code",
   "execution_count": null,
   "metadata": {
    "collapsed": true
   },
   "outputs": [],
   "source": []
  }
 ],
 "metadata": {
  "kernelspec": {
   "display_name": "Python 3",
   "language": "python",
   "name": "python3"
  },
  "language_info": {
   "codemirror_mode": {
    "name": "ipython",
    "version": 3
   },
   "file_extension": ".py",
   "mimetype": "text/x-python",
   "name": "python",
   "nbconvert_exporter": "python",
   "pygments_lexer": "ipython3",
   "version": "3.5.4"
  }
 },
 "nbformat": 4,
 "nbformat_minor": 2
}
